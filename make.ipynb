{
 "cells": [
  {
   "cell_type": "code",
   "execution_count": 6,
   "id": "073c3abf-ab3d-4657-bf06-ce5777a69ebd",
   "metadata": {},
   "outputs": [
    {
     "data": {
      "text/html": [
       "<div>\n",
       "<style scoped>\n",
       "    .dataframe tbody tr th:only-of-type {\n",
       "        vertical-align: middle;\n",
       "    }\n",
       "\n",
       "    .dataframe tbody tr th {\n",
       "        vertical-align: top;\n",
       "    }\n",
       "\n",
       "    .dataframe thead th {\n",
       "        text-align: right;\n",
       "    }\n",
       "</style>\n",
       "<table border=\"1\" class=\"dataframe\">\n",
       "  <thead>\n",
       "    <tr style=\"text-align: right;\">\n",
       "      <th></th>\n",
       "      <th>actor</th>\n",
       "      <th>movie_or_TV_name</th>\n",
       "    </tr>\n",
       "  </thead>\n",
       "  <tbody>\n",
       "    <tr>\n",
       "      <th>0</th>\n",
       "      <td>Armando Mundaraín</td>\n",
       "      <td>Terminator: Dark Fate</td>\n",
       "    </tr>\n",
       "    <tr>\n",
       "      <th>1</th>\n",
       "      <td>Armando Mundaraín</td>\n",
       "      <td>The Spy</td>\n",
       "    </tr>\n",
       "    <tr>\n",
       "      <th>2</th>\n",
       "      <td>Armando Mundaraín</td>\n",
       "      <td>Ransom</td>\n",
       "    </tr>\n",
       "    <tr>\n",
       "      <th>3</th>\n",
       "      <td>Armando Mundaraín</td>\n",
       "      <td>Aranyélet</td>\n",
       "    </tr>\n",
       "    <tr>\n",
       "      <th>4</th>\n",
       "      <td>Armando Mundaraín</td>\n",
       "      <td>Tyrant</td>\n",
       "    </tr>\n",
       "    <tr>\n",
       "      <th>...</th>\n",
       "      <td>...</td>\n",
       "      <td>...</td>\n",
       "    </tr>\n",
       "    <tr>\n",
       "      <th>2233</th>\n",
       "      <td>Georgia Simon</td>\n",
       "      <td>Marilyn Hotchkiss' Ballroom Dancing &amp; Charm Sc...</td>\n",
       "    </tr>\n",
       "    <tr>\n",
       "      <th>2234</th>\n",
       "      <td>Georgia Simon</td>\n",
       "      <td>Liv</td>\n",
       "    </tr>\n",
       "    <tr>\n",
       "      <th>2235</th>\n",
       "      <td>Georgia Simon</td>\n",
       "      <td>Reunion</td>\n",
       "    </tr>\n",
       "    <tr>\n",
       "      <th>2236</th>\n",
       "      <td>Georgia Simon</td>\n",
       "      <td>Mafia!</td>\n",
       "    </tr>\n",
       "    <tr>\n",
       "      <th>2237</th>\n",
       "      <td>Georgia Simon</td>\n",
       "      <td>Ballistic</td>\n",
       "    </tr>\n",
       "  </tbody>\n",
       "</table>\n",
       "<p>2238 rows × 2 columns</p>\n",
       "</div>"
      ],
      "text/plain": [
       "                  actor                                   movie_or_TV_name\n",
       "0     Armando Mundaraín                              Terminator: Dark Fate\n",
       "1     Armando Mundaraín                                            The Spy\n",
       "2     Armando Mundaraín                                             Ransom\n",
       "3     Armando Mundaraín                                          Aranyélet\n",
       "4     Armando Mundaraín                                             Tyrant\n",
       "...                 ...                                                ...\n",
       "2233      Georgia Simon  Marilyn Hotchkiss' Ballroom Dancing & Charm Sc...\n",
       "2234      Georgia Simon                                                Liv\n",
       "2235      Georgia Simon                                            Reunion\n",
       "2236      Georgia Simon                                             Mafia!\n",
       "2237      Georgia Simon                                          Ballistic\n",
       "\n",
       "[2238 rows x 2 columns]"
      ]
     },
     "execution_count": 6,
     "metadata": {},
     "output_type": "execute_result"
    }
   ],
   "source": [
    "import pandas as pd\n",
    "df = pd.read_csv(\"./movies.csv\")\n",
    "df"
   ]
  },
  {
   "cell_type": "code",
   "execution_count": 7,
   "id": "cea7a8cf-470a-4e3e-b464-17fdc8fc5b50",
   "metadata": {},
   "outputs": [
    {
     "data": {
      "text/plain": [
       "Terminator: Dark Fate     81\n",
       "Centro médico              9\n",
       "Amar es para siempre       8\n",
       "Doctors                    7\n",
       "The Martian                6\n",
       "                          ..\n",
       "Hot and Stupid             1\n",
       "Buried in the Backyard     1\n",
       "Angie Tribeca              1\n",
       "Murder Loves Company       1\n",
       "Ballistic                  1\n",
       "Name: movie_or_TV_name, Length: 1926, dtype: int64"
      ]
     },
     "execution_count": 7,
     "metadata": {},
     "output_type": "execute_result"
    }
   ],
   "source": [
    "new_df = df['movie_or_TV_name'].value_counts()\n",
    "new_df"
   ]
  },
  {
   "cell_type": "code",
   "execution_count": 153,
   "id": "aa29cf20-3699-410a-9730-1fb3ed105e20",
   "metadata": {},
   "outputs": [
    {
     "data": {
      "text/html": [
       "<div>\n",
       "<style scoped>\n",
       "    .dataframe tbody tr th:only-of-type {\n",
       "        vertical-align: middle;\n",
       "    }\n",
       "\n",
       "    .dataframe tbody tr th {\n",
       "        vertical-align: top;\n",
       "    }\n",
       "\n",
       "    .dataframe thead th {\n",
       "        text-align: right;\n",
       "    }\n",
       "</style>\n",
       "<table border=\"1\" class=\"dataframe\">\n",
       "  <thead>\n",
       "    <tr style=\"text-align: right;\">\n",
       "      <th></th>\n",
       "      <th>movie</th>\n",
       "      <th>number of shared actors</th>\n",
       "    </tr>\n",
       "  </thead>\n",
       "  <tbody>\n",
       "    <tr>\n",
       "      <th>0</th>\n",
       "      <td>Terminator: Dark Fate</td>\n",
       "      <td>81</td>\n",
       "    </tr>\n",
       "    <tr>\n",
       "      <th>1</th>\n",
       "      <td>Centro médico</td>\n",
       "      <td>9</td>\n",
       "    </tr>\n",
       "    <tr>\n",
       "      <th>2</th>\n",
       "      <td>Amar es para siempre</td>\n",
       "      <td>8</td>\n",
       "    </tr>\n",
       "    <tr>\n",
       "      <th>3</th>\n",
       "      <td>Doctors</td>\n",
       "      <td>7</td>\n",
       "    </tr>\n",
       "    <tr>\n",
       "      <th>4</th>\n",
       "      <td>The Martian</td>\n",
       "      <td>6</td>\n",
       "    </tr>\n",
       "    <tr>\n",
       "      <th>5</th>\n",
       "      <td>Hospital Central</td>\n",
       "      <td>6</td>\n",
       "    </tr>\n",
       "    <tr>\n",
       "      <th>6</th>\n",
       "      <td>Tyrant</td>\n",
       "      <td>5</td>\n",
       "    </tr>\n",
       "    <tr>\n",
       "      <th>7</th>\n",
       "      <td>The Alienist</td>\n",
       "      <td>5</td>\n",
       "    </tr>\n",
       "  </tbody>\n",
       "</table>\n",
       "</div>"
      ],
      "text/plain": [
       "                   movie  number of shared actors\n",
       "0  Terminator: Dark Fate                       81\n",
       "1          Centro médico                        9\n",
       "2   Amar es para siempre                        8\n",
       "3                Doctors                        7\n",
       "4            The Martian                        6\n",
       "5       Hospital Central                        6\n",
       "6                 Tyrant                        5\n",
       "7           The Alienist                        5"
      ]
     },
     "execution_count": 153,
     "metadata": {},
     "output_type": "execute_result"
    }
   ],
   "source": [
    "new_df = new_df.head(8).rename_axis('movie').reset_index(name='number of shared actors')\n",
    "new_df"
   ]
  },
  {
   "cell_type": "code",
   "execution_count": null,
   "id": "85915359-165b-410b-a5ce-113823fcafd7",
   "metadata": {},
   "outputs": [],
   "source": []
  }
 ],
 "metadata": {
  "interpreter": {
   "hash": "282cb4ca5bb2d40817c6f5cfcf004482b40e624cd92104719238e27304971569"
  },
  "kernelspec": {
   "display_name": "Python [conda env:PIC16B] *",
   "language": "python",
   "name": "python3"
  },
  "language_info": {
   "codemirror_mode": {
    "name": "ipython",
    "version": 3
   },
   "file_extension": ".py",
   "mimetype": "text/x-python",
   "name": "python",
   "nbconvert_exporter": "python",
   "pygments_lexer": "ipython3",
   "version": "3.7.11"
  }
 },
 "nbformat": 4,
 "nbformat_minor": 5
}
